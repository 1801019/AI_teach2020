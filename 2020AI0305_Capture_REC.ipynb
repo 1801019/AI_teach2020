{
  "nbformat": 4,
  "nbformat_minor": 0,
  "metadata": {
    "colab": {
      "name": "2020AI0305-Capture-REC.ipynb",
      "provenance": [],
      "collapsed_sections": [],
      "authorship_tag": "ABX9TyNdzVmY6/KQh50dU+Zu8C1f",
      "include_colab_link": true
    },
    "kernelspec": {
      "name": "python3",
      "display_name": "Python 3"
    }
  },
  "cells": [
    {
      "cell_type": "markdown",
      "metadata": {
        "id": "view-in-github",
        "colab_type": "text"
      },
      "source": [
        "<a href=\"https://colab.research.google.com/github/1801019/AI_teach2020/blob/master/2020AI0305_Capture_REC.ipynb\" target=\"_parent\"><img src=\"https://colab.research.google.com/assets/colab-badge.svg\" alt=\"Open In Colab\"/></a>"
      ]
    },
    {
      "cell_type": "markdown",
      "metadata": {
        "id": "lhtYGGOfOmxm"
      },
      "source": [
        "### カメラや動画ファイルからおキャプチャ内容を加工して加工して録画する。"
      ]
    },
    {
      "cell_type": "markdown",
      "metadata": {
        "id": "e8W7l4P6O2Ze"
      },
      "source": [
        "## ライブラリのダウンロード"
      ]
    },
    {
      "cell_type": "code",
      "metadata": {
        "id": "TWd9WGLHOyna"
      },
      "source": [
        "import cv2, os\n",
        "import urllib.request as req"
      ],
      "execution_count": null,
      "outputs": []
    },
    {
      "cell_type": "markdown",
      "metadata": {
        "id": "VJWJrvbyPJdS"
      },
      "source": [
        "# 動画ファイルのダウンロード"
      ]
    },
    {
      "cell_type": "code",
      "metadata": {
        "colab": {
          "base_uri": "https://localhost:8080/"
        },
        "id": "rbr2DEINPH9-",
        "outputId": "566d0f89-c059-43aa-efd2-84b5eb3b8e37"
      },
      "source": [
        "url = \"https://github.com/masatokg/sample_photo/raw/master/fish.mp4\"\n",
        "save_file = \"fish.mp4\"\n",
        "req.urlretrieve(url, save_file )"
      ],
      "execution_count": null,
      "outputs": [
        {
          "output_type": "execute_result",
          "data": {
            "text/plain": [
              "('fish.mp4', <http.client.HTTPMessage at 0x7f2721ed49e8>)"
            ]
          },
          "metadata": {
            "tags": []
          },
          "execution_count": 62
        }
      ]
    },
    {
      "cell_type": "markdown",
      "metadata": {
        "id": "pK4OrvkgP1Db"
      },
      "source": [
        "## キャプチャ処理用の定義"
      ]
    },
    {
      "cell_type": "code",
      "metadata": {
        "id": "0HLlQq4hPvsO"
      },
      "source": [
        "out_file = \"out.mp4\"\n",
        "cap = cv2.VideoCapture(save_file)\n",
        "fourcc = cv2.VideoWriter_fourcc(\"M\",\"P\",\"4\",\"V\")\n",
        "fps = 30.0"
      ],
      "execution_count": null,
      "outputs": []
    },
    {
      "cell_type": "markdown",
      "metadata": {
        "id": "gfE-zmTlQ1j4"
      },
      "source": [
        "## キャプチャしたフレームの加工処理関数"
      ]
    },
    {
      "cell_type": "code",
      "metadata": {
        "id": "ZvwlRG_uP_74"
      },
      "source": [
        "def process_img(framne):\n",
        "  frame[ :, :, 0] = 0\n",
        "  frame[ :, :, 1] = 0\n",
        "\n",
        "  return frame"
      ],
      "execution_count": null,
      "outputs": []
    },
    {
      "cell_type": "markdown",
      "metadata": {
        "id": "tPH2D6ziRMqz"
      },
      "source": [
        "## そのフレームを受け取りそのフレームサイズでキャプチャ画像を録画するためのレコーダーを定義する"
      ]
    },
    {
      "cell_type": "code",
      "metadata": {
        "id": "SqKie-GWRMHv"
      },
      "source": [
        "def open_recorder(frame):\n",
        "  h = len(frame)\n",
        "  w = len(frame)\n",
        "  size = (w,h)\n",
        "  recorder = cv2.VideoWriter(out_file,fourcc,fps,size,isColor=True )\n",
        "  return recorder"
      ],
      "execution_count": null,
      "outputs": []
    },
    {
      "cell_type": "markdown",
      "metadata": {
        "id": "HEwS7b3PSJgO"
      },
      "source": [
        "## キャプチャの読み込みよりを実施"
      ]
    },
    {
      "cell_type": "code",
      "metadata": {
        "colab": {
          "base_uri": "https://localhost:8080/"
        },
        "id": "ZMKS0b0xRn4I",
        "outputId": "2d963331-3c09-4ede-cc0e-ffc6a45f8d0d"
      },
      "source": [
        "is_ok , frame = cap.read()\n",
        "if is_ok:\n",
        "  print (\"1 frame has read \")\n",
        "  recorder = open_recorder( frame )\n",
        "  while True:\n",
        "    frame = process_img( frame )\n",
        "    recorder.write( frame )\n",
        "    is_ok, frame = cap.read()\n",
        "    if is_ok is not True:\n",
        "      break\n",
        "else:\n",
        "  print (\"Thereis not fme\")"
      ],
      "execution_count": null,
      "outputs": [
        {
          "output_type": "stream",
          "text": [
            "1 frame has read \n"
          ],
          "name": "stdout"
        }
      ]
    },
    {
      "cell_type": "code",
      "metadata": {
        "colab": {
          "base_uri": "https://localhost:8080/",
          "height": 34
        },
        "id": "w_1fE9tqScBH",
        "outputId": "035ac2c1-2680-47a6-86eb-f439d2ed9c59"
      },
      "source": [
        "recorder.release()\n",
        "cap.release()\n",
        "print(\"capture and recording end\")\n",
        "from google.colab import files\n",
        "files.download(out_file)\n"
      ],
      "execution_count": null,
      "outputs": [
        {
          "output_type": "stream",
          "text": [
            "capture and recording end\n"
          ],
          "name": "stdout"
        },
        {
          "output_type": "display_data",
          "data": {
            "application/javascript": [
              "\n",
              "    async function download(id, filename, size) {\n",
              "      if (!google.colab.kernel.accessAllowed) {\n",
              "        return;\n",
              "      }\n",
              "      const div = document.createElement('div');\n",
              "      const label = document.createElement('label');\n",
              "      label.textContent = `Downloading \"${filename}\": `;\n",
              "      div.appendChild(label);\n",
              "      const progress = document.createElement('progress');\n",
              "      progress.max = size;\n",
              "      div.appendChild(progress);\n",
              "      document.body.appendChild(div);\n",
              "\n",
              "      const buffers = [];\n",
              "      let downloaded = 0;\n",
              "\n",
              "      const channel = await google.colab.kernel.comms.open(id);\n",
              "      // Send a message to notify the kernel that we're ready.\n",
              "      channel.send({})\n",
              "\n",
              "      for await (const message of channel.messages) {\n",
              "        // Send a message to notify the kernel that we're ready.\n",
              "        channel.send({})\n",
              "        if (message.buffers) {\n",
              "          for (const buffer of message.buffers) {\n",
              "            buffers.push(buffer);\n",
              "            downloaded += buffer.byteLength;\n",
              "            progress.value = downloaded;\n",
              "          }\n",
              "        }\n",
              "      }\n",
              "      const blob = new Blob(buffers, {type: 'application/binary'});\n",
              "      const a = document.createElement('a');\n",
              "      a.href = window.URL.createObjectURL(blob);\n",
              "      a.download = filename;\n",
              "      div.appendChild(a);\n",
              "      a.click();\n",
              "      div.remove();\n",
              "    }\n",
              "  "
            ],
            "text/plain": [
              "<IPython.core.display.Javascript object>"
            ]
          },
          "metadata": {
            "tags": []
          }
        },
        {
          "output_type": "display_data",
          "data": {
            "application/javascript": [
              "download(\"download_ac751905-c8bf-4d93-9369-e16fc017c2bc\", \"out.mp4\", 258)"
            ],
            "text/plain": [
              "<IPython.core.display.Javascript object>"
            ]
          },
          "metadata": {
            "tags": []
          }
        }
      ]
    },
    {
      "cell_type": "code",
      "metadata": {
        "id": "PXkyApGEXJhe"
      },
      "source": [
        ""
      ],
      "execution_count": null,
      "outputs": []
    }
  ]
}