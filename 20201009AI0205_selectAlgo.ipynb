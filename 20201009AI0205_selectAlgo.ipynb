{
  "nbformat": 4,
  "nbformat_minor": 0,
  "metadata": {
    "colab": {
      "name": "20201009AI0205-selectAlgo.ipynb",
      "provenance": [],
      "authorship_tag": "ABX9TyPd9Tuq3bv5RxfayZM1hWdK",
      "include_colab_link": true
    },
    "kernelspec": {
      "name": "python3",
      "display_name": "Python 3"
    }
  },
  "cells": [
    {
      "cell_type": "markdown",
      "metadata": {
        "id": "view-in-github",
        "colab_type": "text"
      },
      "source": [
        "<a href=\"https://colab.research.google.com/github/1801019/AI_teach2020/blob/master/20201009AI0205_selectAlgo.ipynb\" target=\"_parent\"><img src=\"https://colab.research.google.com/assets/colab-badge.svg\" alt=\"Open In Colab\"/></a>"
      ]
    },
    {
      "cell_type": "markdown",
      "metadata": {
        "id": "aBp6w1U6qzUV"
      },
      "source": [
        "# sklearnでエラーが出るので、前のバージョンを入れ直す¶"
      ]
    },
    {
      "cell_type": "code",
      "metadata": {
        "id": "knf0PSAimyzl",
        "outputId": "1a47354f-8485-4899-f0c3-e4fb382a9ba9",
        "colab": {
          "base_uri": "https://localhost:8080/",
          "height": 484
        }
      },
      "source": [
        "# 現在のscikitーlearnをcolabのVMからアンインストール\n",
        "!pip uninstall scikit-learn\n",
        "# 前のバージョンを指定してvmにいんすとーる\n",
        "!pip install scikit-learn==0.20 --ignore-installed"
      ],
      "execution_count": 3,
      "outputs": [
        {
          "output_type": "stream",
          "text": [
            "Uninstalling scikit-learn-0.22.2.post1:\n",
            "  Would remove:\n",
            "    /usr/local/lib/python3.6/dist-packages/scikit_learn-0.22.2.post1.dist-info/*\n",
            "    /usr/local/lib/python3.6/dist-packages/sklearn/*\n",
            "Proceed (y/n)? y\n",
            "  Successfully uninstalled scikit-learn-0.22.2.post1\n",
            "Collecting scikit-learn==0.20\n",
            "\u001b[?25l  Downloading https://files.pythonhosted.org/packages/0c/b2/05be9b6da9ae4a4c54f537be22e95833f722742a02b1e355fdc09363877c/scikit_learn-0.20.0-cp36-cp36m-manylinux1_x86_64.whl (5.3MB)\n",
            "\u001b[K     |████████████████████████████████| 5.3MB 3.3MB/s \n",
            "\u001b[?25hCollecting scipy>=0.13.3\n",
            "\u001b[?25l  Downloading https://files.pythonhosted.org/packages/8a/14/d0475ceeaa047f3eae2dc7597c3d40228e1d5beee42c1730f3c96ffb5526/scipy-1.5.3-cp36-cp36m-manylinux1_x86_64.whl (25.9MB)\n",
            "\u001b[K     |████████████████████████████████| 25.9MB 1.7MB/s \n",
            "\u001b[?25hCollecting numpy>=1.8.2\n",
            "\u001b[?25l  Downloading https://files.pythonhosted.org/packages/0e/f7/a7d7e0de99a7b43bd95aaddcf29e65b5a185ca389dd1329a53cc986edc38/numpy-1.19.3-cp36-cp36m-manylinux2010_x86_64.whl (14.9MB)\n",
            "\u001b[K     |████████████████████████████████| 14.9MB 313kB/s \n",
            "\u001b[31mERROR: tensorflow 2.3.0 has requirement numpy<1.19.0,>=1.16.0, but you'll have numpy 1.19.3 which is incompatible.\u001b[0m\n",
            "\u001b[31mERROR: tensorflow 2.3.0 has requirement scipy==1.4.1, but you'll have scipy 1.5.3 which is incompatible.\u001b[0m\n",
            "\u001b[31mERROR: datascience 0.10.6 has requirement folium==0.2.1, but you'll have folium 0.8.3 which is incompatible.\u001b[0m\n",
            "\u001b[31mERROR: albumentations 0.1.12 has requirement imgaug<0.2.7,>=0.2.5, but you'll have imgaug 0.2.9 which is incompatible.\u001b[0m\n",
            "\u001b[?25hInstalling collected packages: numpy, scipy, scikit-learn\n",
            "Successfully installed numpy-1.19.3 scikit-learn-0.20.0 scipy-1.5.3\n"
          ],
          "name": "stdout"
        },
        {
          "output_type": "display_data",
          "data": {
            "application/vnd.colab-display-data+json": {
              "pip_warning": {
                "packages": [
                  "numpy"
                ]
              }
            }
          },
          "metadata": {
            "tags": []
          }
        }
      ]
    },
    {
      "cell_type": "markdown",
      "metadata": {
        "id": "nKMzWzXgq4oo"
      },
      "source": [
        " ### all_estimators()でループして各種のアルゴリズムで学習させ、比較する"
      ]
    },
    {
      "cell_type": "code",
      "metadata": {
        "id": "mdb8gIwMqdVk"
      },
      "source": [
        "# ライブラリ読み込み\n",
        "import pandas as pd\n",
        "# 学習用データとテスト検証用データを分割する\n",
        "from sklearn.model_selection import train_test_split\n",
        "# 正解率を算出するライブラリ\n",
        "from sklearn.metrics import accuracy_score\n",
        "# all_estimaios(推定機の全てを利用できるようにする)\n",
        "from sklearn.utils.testing import all_estimators\n",
        "# 警告クラス\n",
        "import warnings\n"
      ],
      "execution_count": 4,
      "outputs": []
    },
    {
      "cell_type": "markdown",
      "metadata": {
        "id": "2Ef9OfqPmzkq"
      },
      "source": [
        "### Webからあやめのデータを読み込む"
      ]
    },
    {
      "cell_type": "code",
      "metadata": {
        "id": "NJcLBe0ZqgE6",
        "outputId": "003d27e4-e5f8-430d-a273-da4df01cfcc4",
        "colab": {
          "base_uri": "https://localhost:8080/",
          "height": 204
        }
      },
      "source": [
        "# urリンクから読み込むライブラリ\n",
        "import urllib.request as req\n",
        "# url用の文字列変数を定義\n",
        "url =\"https://raw.githubusercontent.com/pandas-dev/pandas/master/pandas/tests/io/data/csv/iris.csv\"\n",
        "#リンクから保存するためのファイル名を定義\n",
        "savefile = \"iris.csv\"\n",
        "# requestクラスを使ってurlからデータをsavefileへコピーして保存\n",
        "req.urlretrieve(url,savefile)\n",
        "#pandasのreadメソッドを使ってcsvファイルを読み込む\n",
        "iris_data = pd.read_csv(savefile,encoding=\"utf-8\")\n",
        "iris_data.head()"
      ],
      "execution_count": 26,
      "outputs": [
        {
          "output_type": "execute_result",
          "data": {
            "text/html": [
              "<div>\n",
              "<style scoped>\n",
              "    .dataframe tbody tr th:only-of-type {\n",
              "        vertical-align: middle;\n",
              "    }\n",
              "\n",
              "    .dataframe tbody tr th {\n",
              "        vertical-align: top;\n",
              "    }\n",
              "\n",
              "    .dataframe thead th {\n",
              "        text-align: right;\n",
              "    }\n",
              "</style>\n",
              "<table border=\"1\" class=\"dataframe\">\n",
              "  <thead>\n",
              "    <tr style=\"text-align: right;\">\n",
              "      <th></th>\n",
              "      <th>SepalLength</th>\n",
              "      <th>SepalWidth</th>\n",
              "      <th>PetalLength</th>\n",
              "      <th>PetalWidth</th>\n",
              "      <th>Name</th>\n",
              "    </tr>\n",
              "  </thead>\n",
              "  <tbody>\n",
              "    <tr>\n",
              "      <th>0</th>\n",
              "      <td>5.1</td>\n",
              "      <td>3.5</td>\n",
              "      <td>1.4</td>\n",
              "      <td>0.2</td>\n",
              "      <td>Iris-setosa</td>\n",
              "    </tr>\n",
              "    <tr>\n",
              "      <th>1</th>\n",
              "      <td>4.9</td>\n",
              "      <td>3.0</td>\n",
              "      <td>1.4</td>\n",
              "      <td>0.2</td>\n",
              "      <td>Iris-setosa</td>\n",
              "    </tr>\n",
              "    <tr>\n",
              "      <th>2</th>\n",
              "      <td>4.7</td>\n",
              "      <td>3.2</td>\n",
              "      <td>1.3</td>\n",
              "      <td>0.2</td>\n",
              "      <td>Iris-setosa</td>\n",
              "    </tr>\n",
              "    <tr>\n",
              "      <th>3</th>\n",
              "      <td>4.6</td>\n",
              "      <td>3.1</td>\n",
              "      <td>1.5</td>\n",
              "      <td>0.2</td>\n",
              "      <td>Iris-setosa</td>\n",
              "    </tr>\n",
              "    <tr>\n",
              "      <th>4</th>\n",
              "      <td>5.0</td>\n",
              "      <td>3.6</td>\n",
              "      <td>1.4</td>\n",
              "      <td>0.2</td>\n",
              "      <td>Iris-setosa</td>\n",
              "    </tr>\n",
              "  </tbody>\n",
              "</table>\n",
              "</div>"
            ],
            "text/plain": [
              "   SepalLength  SepalWidth  PetalLength  PetalWidth         Name\n",
              "0          5.1         3.5          1.4         0.2  Iris-setosa\n",
              "1          4.9         3.0          1.4         0.2  Iris-setosa\n",
              "2          4.7         3.2          1.3         0.2  Iris-setosa\n",
              "3          4.6         3.1          1.5         0.2  Iris-setosa\n",
              "4          5.0         3.6          1.4         0.2  Iris-setosa"
            ]
          },
          "metadata": {
            "tags": []
          },
          "execution_count": 26
        }
      ]
    },
    {
      "cell_type": "code",
      "metadata": {
        "id": "DbsLEMKTqhoE",
        "outputId": "af95cd0b-cdbc-4dc9-87b5-0a765637f812",
        "colab": {
          "base_uri": "https://localhost:8080/"
        }
      },
      "source": [
        "y = iris_data.loc[:, \"Name\"] #目的変数\n",
        "x = iris_data.loc[:,[\"SepalLength\",\"SepalWidth\",\"PetalLength\",\"PetalWidth\"]] #説明変数\n",
        "\n",
        "print(y.head())\n",
        "print(x.head())"
      ],
      "execution_count": 27,
      "outputs": [
        {
          "output_type": "stream",
          "text": [
            "0    Iris-setosa\n",
            "1    Iris-setosa\n",
            "2    Iris-setosa\n",
            "3    Iris-setosa\n",
            "4    Iris-setosa\n",
            "Name: Name, dtype: object\n",
            "   SepalLength  SepalWidth  PetalLength  PetalWidth\n",
            "0          5.1         3.5          1.4         0.2\n",
            "1          4.9         3.0          1.4         0.2\n",
            "2          4.7         3.2          1.3         0.2\n",
            "3          4.6         3.1          1.5         0.2\n",
            "4          5.0         3.6          1.4         0.2\n"
          ],
          "name": "stdout"
        }
      ]
    },
    {
      "cell_type": "markdown",
      "metadata": {
        "id": "3YkL48lurCZJ"
      },
      "source": [
        "###アヤメデータを目的変数yと説明変数xに分離する"
      ]
    },
    {
      "cell_type": "code",
      "metadata": {
        "id": "GoCs8_ZOqjxm",
        "outputId": "b796856b-ddb5-42b1-f1ab-9e773659c930",
        "colab": {
          "base_uri": "https://localhost:8080/"
        }
      },
      "source": [
        "# 学習用データ（train）と検証用データ（test）に分離\n",
        "x_train,x_test,y_train,y_test = train_test_split(x,y,test_size=0.2,train_size=0.8,shuffle=True)\n",
        "print(x_train.head())\n",
        "print(y_train.head())\n",
        "print(x_test.head())\n",
        "print(y_test.head())\n"
      ],
      "execution_count": 28,
      "outputs": [
        {
          "output_type": "stream",
          "text": [
            "     SepalLength  SepalWidth  PetalLength  PetalWidth\n",
            "13           4.3         3.0          1.1         0.1\n",
            "92           5.8         2.6          4.0         1.2\n",
            "24           4.8         3.4          1.9         0.2\n",
            "106          4.9         2.5          4.5         1.7\n",
            "115          6.4         3.2          5.3         2.3\n",
            "13         Iris-setosa\n",
            "92     Iris-versicolor\n",
            "24         Iris-setosa\n",
            "106     Iris-virginica\n",
            "115     Iris-virginica\n",
            "Name: Name, dtype: object\n",
            "     SepalLength  SepalWidth  PetalLength  PetalWidth\n",
            "42           4.4         3.2          1.3         0.2\n",
            "10           5.4         3.7          1.5         0.2\n",
            "30           4.8         3.1          1.6         0.2\n",
            "1            4.9         3.0          1.4         0.2\n",
            "101          5.8         2.7          5.1         1.9\n",
            "42        Iris-setosa\n",
            "10        Iris-setosa\n",
            "30        Iris-setosa\n",
            "1         Iris-setosa\n",
            "101    Iris-virginica\n",
            "Name: Name, dtype: object\n"
          ],
          "name": "stdout"
        }
      ]
    },
    {
      "cell_type": "code",
      "metadata": {
        "id": "J5ddPk_YqqeI"
      },
      "source": [
        "\n",
        "# 推定器のリストをフィルター指定して取得\n",
        "allAlgorithms = all_estimators(type_filter=\"classifier\")\n",
        "# ワーニングを無視する\n",
        "warnings.filterwarnings(\"ignore\")"
      ],
      "execution_count": 29,
      "outputs": []
    },
    {
      "cell_type": "code",
      "metadata": {
        "id": "l3nnqViMquBG",
        "outputId": "b7d4740b-adaf-4889-d4d9-0d4752ff4842",
        "colab": {
          "base_uri": "https://localhost:8080/"
        }
      },
      "source": [
        "#推定器のリストをループ\n",
        "for(name,algorithm) in allAlgorithms:\n",
        "  #各アルゴリズムのオブジェクトを生成\n",
        "  clf = algorithm() # 各アルゴリズムクラスのコンストラクトを実行\n",
        "  #　学習させる\n",
        "  clf.fit(x_train,y_train)\n",
        "  # 推論する\n",
        "  y_pred = clf.predict(x_test)\n",
        "  # accuracy_scoreで正解率を算出して表示\n",
        "  print(name,\"正解率 = \",accuracy_score(y_test,y_pred) )"
      ],
      "execution_count": 30,
      "outputs": [
        {
          "output_type": "stream",
          "text": [
            "AdaBoostClassifier 正解率 =  1.0\n",
            "BaggingClassifier 正解率 =  1.0\n",
            "BernoulliNB 正解率 =  0.16666666666666666\n",
            "CalibratedClassifierCV 正解率 =  0.9666666666666667\n",
            "ComplementNB 正解率 =  0.8333333333333334\n",
            "DecisionTreeClassifier 正解率 =  1.0\n",
            "ExtraTreeClassifier 正解率 =  0.9333333333333333\n",
            "ExtraTreesClassifier 正解率 =  1.0\n",
            "GaussianNB 正解率 =  1.0\n",
            "GaussianProcessClassifier 正解率 =  1.0\n",
            "GradientBoostingClassifier 正解率 =  1.0\n",
            "KNeighborsClassifier 正解率 =  1.0\n",
            "LabelPropagation 正解率 =  1.0\n",
            "LabelSpreading 正解率 =  1.0\n",
            "LinearDiscriminantAnalysis 正解率 =  1.0\n",
            "LinearSVC 正解率 =  1.0\n",
            "LogisticRegression 正解率 =  0.9666666666666667\n",
            "LogisticRegressionCV 正解率 =  0.9666666666666667\n",
            "MLPClassifier 正解率 =  1.0\n",
            "MultinomialNB 正解率 =  0.6\n",
            "NearestCentroid 正解率 =  0.9666666666666667\n",
            "NuSVC 正解率 =  0.9666666666666667\n",
            "PassiveAggressiveClassifier 正解率 =  0.8333333333333334\n",
            "Perceptron 正解率 =  0.16666666666666666\n",
            "QuadraticDiscriminantAnalysis 正解率 =  1.0\n",
            "RadiusNeighborsClassifier 正解率 =  0.9333333333333333\n",
            "RandomForestClassifier 正解率 =  1.0\n",
            "RidgeClassifier 正解率 =  0.9333333333333333\n",
            "RidgeClassifierCV 正解率 =  0.9333333333333333\n",
            "SGDClassifier 正解率 =  0.7666666666666667\n",
            "SVC 正解率 =  1.0\n"
          ],
          "name": "stdout"
        }
      ]
    },
    {
      "cell_type": "markdown",
      "metadata": {
        "id": "kQHtuviwm3gc"
      },
      "source": [
        "### クロスバリデーション関連のライブラリのインポート\n"
      ]
    },
    {
      "cell_type": "code",
      "metadata": {
        "id": "8bgghoUtm2Fo",
        "outputId": "e55bfe22-ad53-4550-dce2-ca52d9785cce",
        "colab": {
          "base_uri": "https://localhost:8080/"
        }
      },
      "source": [
        "#推定器のリストをループ\n",
        "for(name,algorithm) in allAlgorithms:\n",
        "  #各アルゴリズムのオブジェクトを生成\n",
        "  clf = algorithm() # 各アルゴリズムクラスのコンストラクトを実行\n",
        "  #　学習させる\n",
        "  clf.fit(x_train,y_train)\n",
        "  # 推論する\n",
        "  y_pred = clf.predict(x_test)\n",
        "  # accuracy_scoreで正解率を算出して表示\n",
        "  print(name,\"正解率 = \",accuracy_score(y_test,y_pred) )"
      ],
      "execution_count": 31,
      "outputs": [
        {
          "output_type": "stream",
          "text": [
            "AdaBoostClassifier 正解率 =  1.0\n",
            "BaggingClassifier 正解率 =  1.0\n",
            "BernoulliNB 正解率 =  0.16666666666666666\n",
            "CalibratedClassifierCV 正解率 =  0.9666666666666667\n",
            "ComplementNB 正解率 =  0.8333333333333334\n",
            "DecisionTreeClassifier 正解率 =  1.0\n",
            "ExtraTreeClassifier 正解率 =  1.0\n",
            "ExtraTreesClassifier 正解率 =  1.0\n",
            "GaussianNB 正解率 =  1.0\n",
            "GaussianProcessClassifier 正解率 =  1.0\n",
            "GradientBoostingClassifier 正解率 =  1.0\n",
            "KNeighborsClassifier 正解率 =  1.0\n",
            "LabelPropagation 正解率 =  1.0\n",
            "LabelSpreading 正解率 =  1.0\n",
            "LinearDiscriminantAnalysis 正解率 =  1.0\n",
            "LinearSVC 正解率 =  1.0\n",
            "LogisticRegression 正解率 =  0.9666666666666667\n",
            "LogisticRegressionCV 正解率 =  0.9666666666666667\n",
            "MLPClassifier 正解率 =  1.0\n",
            "MultinomialNB 正解率 =  0.6\n",
            "NearestCentroid 正解率 =  0.9666666666666667\n",
            "NuSVC 正解率 =  0.9666666666666667\n",
            "PassiveAggressiveClassifier 正解率 =  0.9666666666666667\n",
            "Perceptron 正解率 =  0.16666666666666666\n",
            "QuadraticDiscriminantAnalysis 正解率 =  1.0\n",
            "RadiusNeighborsClassifier 正解率 =  0.9333333333333333\n",
            "RandomForestClassifier 正解率 =  1.0\n",
            "RidgeClassifier 正解率 =  0.9333333333333333\n",
            "RidgeClassifierCV 正解率 =  0.9333333333333333\n",
            "SGDClassifier 正解率 =  0.7\n",
            "SVC 正解率 =  1.0\n"
          ],
          "name": "stdout"
        }
      ]
    },
    {
      "cell_type": "markdown",
      "metadata": {
        "id": "7vwpUMf6nNvr"
      },
      "source": [
        "### クロスバリデーションを一致させる"
      ]
    },
    {
      "cell_type": "code",
      "metadata": {
        "id": "d21HCvy8sQ0H"
      },
      "source": [
        "# ライブラリのインポート\n",
        "from sklearn.model_selection import KFold\n",
        "from sklearn.model_selection import cross_val_score"
      ],
      "execution_count": 32,
      "outputs": []
    },
    {
      "cell_type": "code",
      "metadata": {
        "id": "xuA_W27qnMfn",
        "outputId": "5c218d71-a71f-4b63-fc3f-0bc3c4c358e2",
        "colab": {
          "base_uri": "https://localhost:8080/"
        }
      },
      "source": [
        "# K分割交差検証用のインスタンスを生成する\n",
        "kfold_cv = KFold(n_splits=5,shuffle=True)\n",
        "# 　すでに生成してあるall_astimatorsのインスタンスをループさせて、クロスバリデーション を行う\n",
        "for(name,algorithm) in allAlgorithms:\n",
        "  try:\n",
        "    # 各アルゴリズムのインスタンスを取得\n",
        "    clf = algorithm()\n",
        "    #scoreの属性がある学習モデルだけに送る\n",
        "    if hasattr(clf,\"score\"):\n",
        "      scores = cross_val_score(clf,x,y,cv=kfold_cv)\n",
        "      #k=n splits=5回分のクロスバリデーション のスコアを表示\n",
        "      print(name,\"の正解率\")\n",
        "      print(scores)\n",
        "      #ifブロック終了\n",
        "    #tryブロック終了\n",
        "  except : #例外処理のブロック\n",
        "    #何もしない\n",
        "    pass"
      ],
      "execution_count": 33,
      "outputs": [
        {
          "output_type": "stream",
          "text": [
            "AdaBoostClassifier の正解率\n",
            "[0.9        1.         0.96666667 0.93333333 0.96666667]\n",
            "BaggingClassifier の正解率\n",
            "[0.96666667 0.96666667 1.         0.9        0.9       ]\n",
            "BernoulliNB の正解率\n",
            "[0.23333333 0.26666667 0.3        0.26666667 0.23333333]\n",
            "CalibratedClassifierCV の正解率\n",
            "[0.96666667 0.93333333 0.9        0.96666667 0.86666667]\n",
            "ComplementNB の正解率\n",
            "[0.86666667 0.5        0.8        0.56666667 0.6       ]\n",
            "DecisionTreeClassifier の正解率\n",
            "[0.93333333 0.96666667 0.93333333 0.93333333 0.96666667]\n",
            "ExtraTreeClassifier の正解率\n",
            "[0.83333333 1.         0.9        0.93333333 1.        ]\n",
            "ExtraTreesClassifier の正解率\n",
            "[0.93333333 1.         0.93333333 0.96666667 0.86666667]\n",
            "GaussianNB の正解率\n",
            "[0.96666667 1.         0.96666667 0.93333333 0.9       ]\n",
            "GaussianProcessClassifier の正解率\n",
            "[0.93333333 0.96666667 0.93333333 1.         0.96666667]\n",
            "GradientBoostingClassifier の正解率\n",
            "[0.96666667 0.93333333 1.         0.96666667 0.93333333]\n",
            "KNeighborsClassifier の正解率\n",
            "[0.96666667 0.96666667 0.96666667 0.96666667 1.        ]\n",
            "LabelPropagation の正解率\n",
            "[0.96666667 0.93333333 0.93333333 1.         0.96666667]\n",
            "LabelSpreading の正解率\n",
            "[0.93333333 0.96666667 1.         0.93333333 0.96666667]\n",
            "LinearDiscriminantAnalysis の正解率\n",
            "[0.96666667 0.96666667 0.96666667 1.         1.        ]\n",
            "LinearSVC の正解率\n",
            "[1.         1.         1.         0.9        0.93333333]\n",
            "LogisticRegression の正解率\n",
            "[0.93333333 0.93333333 0.96666667 0.93333333 1.        ]\n",
            "LogisticRegressionCV の正解率\n",
            "[0.86666667 0.93333333 0.9        0.96666667 0.86666667]\n",
            "MLPClassifier の正解率\n",
            "[0.96666667 0.96666667 1.         0.93333333 0.93333333]\n",
            "MultinomialNB の正解率\n",
            "[0.93333333 1.         0.93333333 0.9        0.8       ]\n",
            "NearestCentroid の正解率\n",
            "[0.86666667 0.96666667 0.9        0.9        1.        ]\n",
            "NuSVC の正解率\n",
            "[0.86666667 0.96666667 0.96666667 1.         0.96666667]\n",
            "PassiveAggressiveClassifier の正解率\n",
            "[0.63333333 0.73333333 0.63333333 0.93333333 0.76666667]\n",
            "Perceptron の正解率\n",
            "[0.43333333 0.2        0.46666667 0.46666667 0.96666667]\n",
            "QuadraticDiscriminantAnalysis の正解率\n",
            "[0.96666667 0.93333333 1.         0.96666667 1.        ]\n",
            "RadiusNeighborsClassifier の正解率\n",
            "[0.93333333 1.         0.9        0.96666667 0.93333333]\n",
            "RandomForestClassifier の正解率\n",
            "[1.         0.93333333 0.93333333 0.96666667 0.93333333]\n",
            "RidgeClassifier の正解率\n",
            "[0.86666667 0.8        0.66666667 0.83333333 0.93333333]\n",
            "RidgeClassifierCV の正解率\n",
            "[0.73333333 0.76666667 0.83333333 0.86666667 0.86666667]\n",
            "SGDClassifier の正解率\n",
            "[0.8        0.8        0.86666667 0.86666667 0.73333333]\n",
            "SVC の正解率\n",
            "[0.96666667 1.         1.         0.96666667 0.93333333]\n"
          ],
          "name": "stdout"
        }
      ]
    },
    {
      "cell_type": "code",
      "metadata": {
        "id": "0eE42QTJnxEJ"
      },
      "source": [
        "#ライブラリのインポート\n",
        "from sklearn.model_selection import cross_validate"
      ],
      "execution_count": 34,
      "outputs": []
    },
    {
      "cell_type": "code",
      "metadata": {
        "id": "Hj-6lI5Zsk0r",
        "outputId": "ece01cb0-b5c0-4037-c01d-d1e9120e9b54",
        "colab": {
          "base_uri": "https://localhost:8080/"
        }
      },
      "source": [
        "# K分割交差検証用のインスタンスを生成する\n",
        "kfold_cv = KFold(n_splits=5,shuffle=True)\n",
        "# 　すでに生成してあるall_astimatorsのインスタンスをループさせて、クロスバリデーション を行う\n",
        "for(name,algorithm) in allAlgorithms:\n",
        "  try:\n",
        "    # 各アルゴリズムのインスタンスを取得\n",
        "    clf = algorithm()\n",
        "    #scoreの属性がある学習モデルだけに送る\n",
        "    if hasattr(clf,\"score\"):\n",
        "      scores = cross_validate(clf,x,y,cv=kfold_cv)\n",
        "      #k=n splits=5回分のクロスバリデーション のスコアを表示\n",
        "      print(name,\"の正解率\")\n",
        "      print(scores)\n",
        "      #ifブロック終了\n",
        "    #tryブロック終了\n",
        "  except : #例外処理のブロック\n",
        "    #何もしない\n",
        "    pass\n"
      ],
      "execution_count": 35,
      "outputs": [
        {
          "output_type": "stream",
          "text": [
            "AdaBoostClassifier の正解率\n",
            "{'fit_time': array([0.06875467, 0.06362057, 0.06053257, 0.06220388, 0.06528807]), 'score_time': array([0.00545692, 0.00565124, 0.00555253, 0.0062983 , 0.00591302]), 'test_score': array([0.9       , 0.93333333, 0.9       , 1.        , 0.9       ]), 'train_score': array([0.98333333, 0.96666667, 0.95833333, 0.95      , 0.95833333])}\n",
            "BaggingClassifier の正解率\n",
            "{'fit_time': array([0.01702285, 0.01297736, 0.01444006, 0.01321387, 0.01303411]), 'score_time': array([0.00177765, 0.00199151, 0.00186253, 0.00179124, 0.00179219]), 'test_score': array([0.96666667, 0.96666667, 0.93333333, 0.9       , 0.93333333]), 'train_score': array([1.        , 0.99166667, 0.98333333, 1.        , 1.        ])}\n",
            "BernoulliNB の正解率\n",
            "{'fit_time': array([0.00288177, 0.00290275, 0.00350475, 0.00181675, 0.00180769]), 'score_time': array([0.00138497, 0.00156617, 0.00089312, 0.00081635, 0.00081801]), 'test_score': array([0.26666667, 0.26666667, 0.2       , 0.23333333, 0.26666667]), 'train_score': array([0.35      , 0.35      , 0.36666667, 0.35833333, 0.35      ])}\n",
            "CalibratedClassifierCV の正解率\n",
            "{'fit_time': array([0.04649448, 0.04224277, 0.04452944, 0.04004192, 0.04013896]), 'score_time': array([0.00188398, 0.0028131 , 0.00164676, 0.00176716, 0.00151372]), 'test_score': array([0.93333333, 0.96666667, 0.96666667, 0.8       , 0.96666667]), 'train_score': array([0.925     , 0.95      , 0.925     , 0.96666667, 0.93333333])}\n",
            "ComplementNB の正解率\n",
            "{'fit_time': array([0.00322533, 0.00178766, 0.00173831, 0.00173855, 0.00209475]), 'score_time': array([0.00084138, 0.00072503, 0.00074434, 0.00072598, 0.00077248]), 'test_score': array([0.76666667, 0.66666667, 0.6       , 0.66666667, 0.63333333]), 'train_score': array([0.64166667, 0.66666667, 0.68333333, 0.66666667, 0.675     ])}\n",
            "DecisionTreeClassifier の正解率\n",
            "{'fit_time': array([0.00192142, 0.00135303, 0.00133324, 0.00126696, 0.00138116]), 'score_time': array([0.00074339, 0.00066257, 0.00064349, 0.00065112, 0.0008719 ]), 'test_score': array([0.93333333, 1.        , 0.96666667, 0.93333333, 0.96666667]), 'train_score': array([1., 1., 1., 1., 1.])}\n",
            "ExtraTreeClassifier の正解率\n",
            "{'fit_time': array([0.00253487, 0.00132203, 0.00129223, 0.001261  , 0.00126672]), 'score_time': array([0.00076389, 0.00066662, 0.00064731, 0.0006516 , 0.0006721 ]), 'test_score': array([0.96666667, 0.9       , 0.93333333, 0.96666667, 0.9       ]), 'train_score': array([1., 1., 1., 1., 1.])}\n",
            "ExtraTreesClassifier の正解率\n",
            "{'fit_time': array([0.01130414, 0.00992298, 0.00961995, 0.00959897, 0.00934291]), 'score_time': array([0.00169659, 0.00171018, 0.00165272, 0.00170565, 0.00164437]), 'test_score': array([0.96666667, 0.96666667, 0.96666667, 0.96666667, 0.96666667]), 'train_score': array([1., 1., 1., 1., 1.])}\n",
            "GaussianNB の正解率\n",
            "{'fit_time': array([0.00229263, 0.00180459, 0.00199366, 0.002033  , 0.00241542]), 'score_time': array([0.00179887, 0.00108886, 0.0010488 , 0.00097919, 0.00089955]), 'test_score': array([0.96666667, 1.        , 0.9       , 0.96666667, 0.96666667]), 'train_score': array([0.96666667, 0.95      , 0.975     , 0.95833333, 0.95      ])}\n",
            "GaussianProcessClassifier の正解率\n",
            "{'fit_time': array([0.08981085, 0.04924941, 0.03342652, 0.04175663, 0.07334352]), 'score_time': array([0.01087689, 0.00524545, 0.0052166 , 0.01176572, 0.01063895]), 'test_score': array([0.96666667, 0.96666667, 0.96666667, 1.        , 0.96666667]), 'train_score': array([0.96666667, 0.975     , 0.975     , 0.96666667, 0.96666667])}\n",
            "GradientBoostingClassifier の正解率\n",
            "{'fit_time': array([0.17148089, 0.14351511, 0.12954235, 0.14323187, 0.14471078]), 'score_time': array([0.00140476, 0.00138259, 0.00147629, 0.00174618, 0.00139761]), 'test_score': array([0.93333333, 0.93333333, 0.93333333, 1.        , 0.96666667]), 'train_score': array([1., 1., 1., 1., 1.])}\n",
            "KNeighborsClassifier の正解率\n",
            "{'fit_time': array([0.00181627, 0.00142765, 0.00138116, 0.00132394, 0.0015502 ]), 'score_time': array([0.00295544, 0.00194216, 0.00192904, 0.00222278, 0.00205088]), 'test_score': array([1.        , 0.96666667, 1.        , 0.93333333, 1.        ]), 'train_score': array([0.975     , 0.96666667, 0.96666667, 0.99166667, 0.96666667])}\n",
            "LabelPropagation の正解率\n",
            "{'fit_time': array([0.00354171, 0.00285864, 0.00277114, 0.00279927, 0.002774  ]), 'score_time': array([0.00170779, 0.00153136, 0.00167608, 0.00144506, 0.00149083]), 'test_score': array([0.96666667, 1.        , 0.9       , 0.93333333, 1.        ]), 'train_score': array([1., 1., 1., 1., 1.])}\n",
            "LabelSpreading の正解率\n",
            "{'fit_time': array([0.00377059, 0.00360465, 0.00327635, 0.00330472, 0.00310826]), 'score_time': array([0.00172925, 0.00159025, 0.00158811, 0.00152874, 0.00150037]), 'test_score': array([0.93333333, 0.96666667, 1.        , 0.93333333, 0.93333333]), 'train_score': array([1., 1., 1., 1., 1.])}\n",
            "LinearDiscriminantAnalysis の正解率\n",
            "{'fit_time': array([0.00358081, 0.00290084, 0.00273538, 0.00281334, 0.00313687]), 'score_time': array([0.00097561, 0.00107503, 0.00096178, 0.00100422, 0.0013299 ]), 'test_score': array([0.96666667, 1.        , 0.93333333, 1.        , 1.        ]), 'train_score': array([0.98333333, 0.975     , 0.99166667, 0.975     , 0.975     ])}\n",
            "LinearSVC の正解率\n",
            "{'fit_time': array([0.01172733, 0.01098323, 0.01142263, 0.01126599, 0.01234078]), 'score_time': array([0.00128365, 0.00137162, 0.00129557, 0.00134778, 0.00153327]), 'test_score': array([1.        , 0.93333333, 0.93333333, 0.96666667, 1.        ]), 'train_score': array([0.96666667, 0.975     , 0.96666667, 0.96666667, 0.975     ])}\n",
            "LogisticRegression の正解率\n",
            "{'fit_time': array([0.00315881, 0.00234723, 0.00233293, 0.00181031, 0.00173616]), 'score_time': array([0.00109792, 0.0009346 , 0.00088429, 0.00068283, 0.00066876]), 'test_score': array([1.        , 0.93333333, 0.93333333, 0.93333333, 0.93333333]), 'train_score': array([0.95      , 0.96666667, 0.96666667, 0.95      , 0.95833333])}\n",
            "LogisticRegressionCV の正解率\n",
            "{'fit_time': array([0.33135533, 0.32895708, 0.34173107, 0.3261559 , 0.32265639]), 'score_time': array([0.00094795, 0.00094891, 0.00092983, 0.00094509, 0.00116658]), 'test_score': array([0.93333333, 0.9       , 0.96666667, 0.83333333, 1.        ]), 'train_score': array([0.96666667, 0.96666667, 0.95833333, 0.91666667, 0.95      ])}\n",
            "MLPClassifier の正解率\n",
            "{'fit_time': array([0.14015961, 0.14447498, 0.13103008, 0.13572884, 0.13096404]), 'score_time': array([0.00120068, 0.00125694, 0.00128102, 0.00131464, 0.00120926]), 'test_score': array([1.        , 0.93333333, 0.96666667, 0.93333333, 1.        ]), 'train_score': array([0.96666667, 0.975     , 0.975     , 0.99166667, 0.975     ])}\n",
            "MultinomialNB の正解率\n",
            "{'fit_time': array([0.00319767, 0.00179625, 0.00171709, 0.00174618, 0.00171447]), 'score_time': array([0.00102806, 0.00074863, 0.00084186, 0.00074172, 0.00078249]), 'test_score': array([0.8       , 1.        , 0.7       , 0.96666667, 0.93333333]), 'train_score': array([0.85      , 0.95833333, 0.80833333, 0.95833333, 0.975     ])}\n",
            "NearestCentroid の正解率\n",
            "{'fit_time': array([0.00184727, 0.00123215, 0.0012114 , 0.00121832, 0.00119019]), 'score_time': array([0.00106668, 0.00077629, 0.0007925 , 0.00075722, 0.00107098]), 'test_score': array([0.83333333, 1.        , 0.86666667, 0.93333333, 1.        ]), 'train_score': array([0.94166667, 0.91666667, 0.94166667, 0.91666667, 0.90833333])}\n",
            "NuSVC の正解率\n",
            "{'fit_time': array([0.0030477 , 0.00209236, 0.00201535, 0.00200629, 0.00198293]), 'score_time': array([0.0008831 , 0.00077009, 0.00078773, 0.00075555, 0.00076008]), 'test_score': array([1.        , 1.        , 1.        , 0.83333333, 0.9       ]), 'train_score': array([0.975     , 0.96666667, 0.96666667, 1.        , 0.96666667])}\n",
            "PassiveAggressiveClassifier の正解率\n",
            "{'fit_time': array([0.0033083 , 0.0017817 , 0.00177383, 0.00178337, 0.00177956]), 'score_time': array([0.00079155, 0.00068736, 0.00066519, 0.00067663, 0.000664  ]), 'test_score': array([0.66666667, 0.83333333, 0.7       , 0.8       , 0.7       ]), 'train_score': array([0.69166667, 0.88333333, 0.65833333, 0.83333333, 0.825     ])}\n",
            "Perceptron の正解率\n",
            "{'fit_time': array([0.00431275, 0.00267148, 0.00280499, 0.00256181, 0.00255513]), 'score_time': array([0.00161552, 0.00081468, 0.00080562, 0.00077605, 0.00073433]), 'test_score': array([0.56666667, 0.7       , 0.93333333, 0.93333333, 0.9       ]), 'train_score': array([0.7       , 0.68333333, 0.94166667, 0.93333333, 0.81666667])}\n",
            "QuadraticDiscriminantAnalysis の正解率\n",
            "{'fit_time': array([0.00303388, 0.00154257, 0.00151277, 0.00149846, 0.00151277]), 'score_time': array([0.00096202, 0.00096607, 0.00088215, 0.00088763, 0.00087214]), 'test_score': array([1.        , 0.9       , 0.96666667, 0.96666667, 1.        ]), 'train_score': array([0.975     , 1.        , 0.98333333, 0.975     , 0.975     ])}\n",
            "RadiusNeighborsClassifier の正解率\n",
            "{'fit_time': array([0.00177264, 0.00163388, 0.00160193, 0.00194931, 0.00164557]), 'score_time': array([0.00533104, 0.00466919, 0.00451922, 0.00757861, 0.00439358]), 'test_score': array([0.86666667, 0.96666667, 0.9       , 0.96666667, 0.96666667]), 'train_score': array([0.95833333, 0.96666667, 0.95833333, 0.95833333, 0.96666667])}\n",
            "RandomForestClassifier の正解率\n",
            "{'fit_time': array([0.01437855, 0.01225042, 0.01226306, 0.01238561, 0.01258731]), 'score_time': array([0.00169873, 0.00167966, 0.0016458 , 0.00162196, 0.00163865]), 'test_score': array([0.96666667, 0.96666667, 0.9       , 0.96666667, 0.93333333]), 'train_score': array([0.99166667, 0.98333333, 0.99166667, 1.        , 1.        ])}\n",
            "RidgeClassifier の正解率\n",
            "{'fit_time': array([0.00506759, 0.00275874, 0.00269246, 0.00298476, 0.00446749]), 'score_time': array([0.00090003, 0.00077462, 0.00074959, 0.00077081, 0.0011313 ]), 'test_score': array([0.7       , 0.86666667, 0.86666667, 0.9       , 0.76666667]), 'train_score': array([0.85      , 0.84166667, 0.85833333, 0.84166667, 0.86666667])}\n",
            "RidgeClassifierCV の正解率\n",
            "{'fit_time': array([0.00572276, 0.00312924, 0.00301123, 0.00285101, 0.0030756 ]), 'score_time': array([0.00128293, 0.00083017, 0.00076437, 0.00076604, 0.00079942]), 'test_score': array([0.8       , 0.86666667, 0.86666667, 0.83333333, 0.76666667]), 'train_score': array([0.825     , 0.85833333, 0.88333333, 0.875     , 0.875     ])}\n",
            "SGDClassifier の正解率\n",
            "{'fit_time': array([0.00291824, 0.00187516, 0.00206184, 0.00187564, 0.00185609]), 'score_time': array([0.00122213, 0.00071526, 0.00071001, 0.00069904, 0.00066543]), 'test_score': array([0.33333333, 0.8       , 0.63333333, 0.73333333, 0.6       ]), 'train_score': array([0.36666667, 0.8       , 0.69166667, 0.86666667, 0.68333333])}\n",
            "SVC の正解率\n",
            "{'fit_time': array([0.00272346, 0.00211525, 0.00219989, 0.00177503, 0.0018785 ]), 'score_time': array([0.00090837, 0.00093007, 0.00081635, 0.00076914, 0.00081491]), 'test_score': array([0.96666667, 0.96666667, 0.96666667, 0.96666667, 0.93333333]), 'train_score': array([0.99166667, 0.98333333, 0.98333333, 0.99166667, 0.98333333])}\n"
          ],
          "name": "stdout"
        }
      ]
    },
    {
      "cell_type": "markdown",
      "metadata": {
        "id": "LryhFsCL8UvC"
      },
      "source": [
        "### ライブラリをインポート"
      ]
    },
    {
      "cell_type": "code",
      "metadata": {
        "id": "kVYuLdbosqID"
      },
      "source": [
        "#グリッドサーチのオブジェクトクラスをインポート\n",
        "from sklearn.model_selection import GridSearchCV\n",
        "from sklearn.svm import SVC"
      ],
      "execution_count": 36,
      "outputs": []
    },
    {
      "cell_type": "code",
      "metadata": {
        "id": "R5mjJDXD8t8w",
        "outputId": "01bb031b-449a-4096-d395-38d742345b25",
        "colab": {
          "base_uri": "https://localhost:8080/"
        }
      },
      "source": [
        "#グリッドサーチで試すパラメータのパターンを指定する\n",
        "parameters = [\n",
        "              #３つのパラメータ、3パターン\n",
        "              {\"C\":[1,10,100,1000],\"kernel\":[\"linear\"]},\n",
        "              {\"C\":[1,10,100,1000],\"kernel\":[\"rbf\"],\"gamma\":[0.001,0.0001]},\n",
        "              {\"C\":[1,10,100,1000],\"kernel\":[\"sigmoid\"],\"gamma\":[0.001,0.0001]}\n",
        "              ]\n",
        "#普通の学習\n",
        "clf = SVC()\n",
        "clf.fit(x_train,y_train)\n",
        "y_pred = clf.predict(x_test)\n",
        "print (\"普通の学習の正解率＝\",accuracy_score(y_test, y_pred))\n",
        "\n",
        "#グリッドサーチを行う\n",
        "#K分割交差検証のインスタンスを生成する\n",
        "kfold_cv = KFold(n_splits=5,shuffle=True)\n",
        "#グリッドサーチの中でK分割交差検証も行われる\n",
        "clf_grid = GridSearchCV( SVC(), parameters, cv=kfold_cv )#インスタンス\n",
        "clf_grid.fit(x_train, y_train)#学習\n",
        "#学習済みのもでs流に最終的に設定されたパラメータを表示\n",
        "print(\"最適なパラメータ＝\", clf_grid.best_estimator_ )\n",
        "\n",
        "#最適なパラメータ設定済みの学習モデルで評価\n",
        "y_pred = clf_grid.predict(x_test)\n",
        "print(\"グリッドサーチの正解率＝\", accuracy_score(y_test,y_pred))"
      ],
      "execution_count": 37,
      "outputs": [
        {
          "output_type": "stream",
          "text": [
            "普通の学習の正解率＝ 1.0\n",
            "最適なパラメータ＝ SVC(C=1000, cache_size=200, class_weight=None, coef0=0.0,\n",
            "  decision_function_shape='ovr', degree=3, gamma=0.001, kernel='rbf',\n",
            "  max_iter=-1, probability=False, random_state=None, shrinking=True,\n",
            "  tol=0.001, verbose=False)\n",
            "グリッドサーチの正解率＝ 1.0\n"
          ],
          "name": "stdout"
        }
      ]
    },
    {
      "cell_type": "markdown",
      "metadata": {
        "id": "kyqq7YNqFOx3"
      },
      "source": [
        "### Numpyの動作確認"
      ]
    },
    {
      "cell_type": "code",
      "metadata": {
        "id": "k5EoFZiq-YL2"
      },
      "source": [
        "#import\n",
        "import numpy as np"
      ],
      "execution_count": 38,
      "outputs": []
    },
    {
      "cell_type": "code",
      "metadata": {
        "id": "eKR2RAi0FWYU",
        "outputId": "91b12292-ccff-4831-ec26-02fa6de81a90",
        "colab": {
          "base_uri": "https://localhost:8080/"
        }
      },
      "source": [
        "#numpy配列の初期化\n",
        "a = np.array([1,2,3,4,5])\n",
        "print(a)\n",
        "#type関数で型を表示\n",
        "print(type(a))"
      ],
      "execution_count": 39,
      "outputs": [
        {
          "output_type": "stream",
          "text": [
            "[1 2 3 4 5]\n",
            "<class 'numpy.ndarray'>\n"
          ],
          "name": "stdout"
        }
      ]
    },
    {
      "cell_type": "code",
      "metadata": {
        "id": "nHiCJswRFncv",
        "outputId": "5df06ed3-6596-4985-f5ea-c8150cb4a385",
        "colab": {
          "base_uri": "https://localhost:8080/"
        }
      },
      "source": [
        "#2次元配列のnbarryを定義\n",
        "b = np.array([[1,2,3],[4,5,6]])\n",
        "print(b)"
      ],
      "execution_count": 40,
      "outputs": [
        {
          "output_type": "stream",
          "text": [
            "[[1 2 3]\n",
            " [4 5 6]]\n"
          ],
          "name": "stdout"
        }
      ]
    },
    {
      "cell_type": "code",
      "metadata": {
        "id": "tfm6xiEeF4j9",
        "outputId": "1aa9848f-1041-43af-9360-c2a74ca9a908",
        "colab": {
          "base_uri": "https://localhost:8080/"
        }
      },
      "source": [
        "#配列の要素数を指定する\n",
        "print(np.zeros(10))\n",
        "print(np.zeros((3,2)))\n",
        "print(np.ones(2))"
      ],
      "execution_count": 41,
      "outputs": [
        {
          "output_type": "stream",
          "text": [
            "[0. 0. 0. 0. 0. 0. 0. 0. 0. 0.]\n",
            "[[0. 0.]\n",
            " [0. 0.]\n",
            " [0. 0.]]\n",
            "[1. 1.]\n"
          ],
          "name": "stdout"
        }
      ]
    },
    {
      "cell_type": "code",
      "metadata": {
        "id": "bxCsALpmGWnM",
        "outputId": "4b188b5b-86db-48b2-9003-6e26025704b0",
        "colab": {
          "base_uri": "https://localhost:8080/"
        }
      },
      "source": [
        "#連番の要素数を指定して初期化\n",
        "print(np.arange(5))#0から5未満\n",
        "print(np.arange(2,9))#２から８未満\n",
        "print(np.arange(5,8,0.5))#５から８未満で0.5刻み"
      ],
      "execution_count": 42,
      "outputs": [
        {
          "output_type": "stream",
          "text": [
            "[0 1 2 3 4]\n",
            "[2 3 4 5 6 7 8]\n",
            "[5.  5.5 6.  6.5 7.  7.5]\n"
          ],
          "name": "stdout"
        }
      ]
    },
    {
      "cell_type": "code",
      "metadata": {
        "id": "qKofGe_IGqOk",
        "outputId": "24731fc0-1b6d-43c6-a8fb-645ea5d250e3",
        "colab": {
          "base_uri": "https://localhost:8080/"
        }
      },
      "source": [
        "a = np.array([1,2,3,4,5])\n",
        "b = a*2\n",
        "print(b)\n",
        "x = np.arange(10)\n",
        "print(x)\n",
        "y = 3*x + 5\n",
        "print(y)"
      ],
      "execution_count": 43,
      "outputs": [
        {
          "output_type": "stream",
          "text": [
            "[ 2  4  6  8 10]\n",
            "[0 1 2 3 4 5 6 7 8 9]\n",
            "[ 5  8 11 14 17 20 23 26 29 32]\n"
          ],
          "name": "stdout"
        }
      ]
    },
    {
      "cell_type": "code",
      "metadata": {
        "id": "g3pQRAAuH0O5",
        "outputId": "5fc54d7e-42d1-46f8-ff72-6a4d98cec1b1",
        "colab": {
          "base_uri": "https://localhost:8080/"
        }
      },
      "source": [
        "a = np.array([[1,2,3],[4,5,6]])\n",
        "print(a)\n",
        "print(a.shape)\n",
        "\n",
        "b = np.array([[1,2,3],[4,5,6],[7,8,9]])\n",
        "print(b)\n",
        "print(b.shape)"
      ],
      "execution_count": 44,
      "outputs": [
        {
          "output_type": "stream",
          "text": [
            "[[1 2 3]\n",
            " [4 5 6]]\n",
            "(2, 3)\n",
            "[[1 2 3]\n",
            " [4 5 6]\n",
            " [7 8 9]]\n",
            "(3, 3)\n"
          ],
          "name": "stdout"
        }
      ]
    },
    {
      "cell_type": "code",
      "metadata": {
        "id": "t5JambHDwvD8",
        "outputId": "a539e2a2-111d-4322-9529-3e43c6d55807",
        "colab": {
          "base_uri": "https://localhost:8080/"
        }
      },
      "source": [
        "# Numpy配列で次元数を変換する\n",
        "a = np.array([[1,2,3],[4,5,6]])\n",
        "print(\"a=\", a)\n",
        "b = a.flatten()\n",
        "print(\"b=\", b)\n",
        "\n",
        "a = np.array([[1,2,3],[4,5,6]])\n",
        "print(a)\n",
        "b = a.reshape(3,2)\n",
        "print(b)"
      ],
      "execution_count": 45,
      "outputs": [
        {
          "output_type": "stream",
          "text": [
            "a= [[1 2 3]\n",
            " [4 5 6]]\n",
            "b= [1 2 3 4 5 6]\n",
            "[[1 2 3]\n",
            " [4 5 6]]\n",
            "[[1 2]\n",
            " [3 4]\n",
            " [5 6]]\n"
          ],
          "name": "stdout"
        }
      ]
    },
    {
      "cell_type": "code",
      "metadata": {
        "id": "7gdfXWnnwxni",
        "outputId": "dd1924c3-2490-4700-cf27-cadc01ce3ae9",
        "colab": {
          "base_uri": "https://localhost:8080/"
        }
      },
      "source": [
        "v = np.array([[1,2,3],[4,5,6],[7,8,9]])\n",
        "a = v[0]\n",
        "print(a) # 二次元配列の０行目\n",
        "b = v[1:] #  一列目いこう\n",
        "print(b)\n",
        "c = v[:,0]\n",
        "print(c)"
      ],
      "execution_count": 47,
      "outputs": [
        {
          "output_type": "stream",
          "text": [
            "[1 2 3]\n",
            "[[4 5 6]\n",
            " [7 8 9]]\n",
            "[1 4 7]\n"
          ],
          "name": "stdout"
        }
      ]
    },
    {
      "cell_type": "code",
      "metadata": {
        "id": "vG6fNAxrxCCE"
      },
      "source": [
        ""
      ],
      "execution_count": null,
      "outputs": []
    }
  ]
}