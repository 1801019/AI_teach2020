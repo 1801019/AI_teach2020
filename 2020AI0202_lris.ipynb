{
  "nbformat": 4,
  "nbformat_minor": 0,
  "metadata": {
    "colab": {
      "name": "2020AI0202-lris.ipynb",
      "provenance": [],
      "authorship_tag": "ABX9TyOKa+++oiS8yW2rkibINzvA",
      "include_colab_link": true
    },
    "kernelspec": {
      "name": "python3",
      "display_name": "Python 3"
    }
  },
  "cells": [
    {
      "cell_type": "markdown",
      "metadata": {
        "id": "view-in-github",
        "colab_type": "text"
      },
      "source": [
        "<a href=\"https://colab.research.google.com/github/1801019/AI_teach2020/blob/master/2020AI0202_lris.ipynb\" target=\"_parent\"><img src=\"https://colab.research.google.com/assets/colab-badge.svg\" alt=\"Open In Colab\"/></a>"
      ]
    },
    {
      "cell_type": "code",
      "metadata": {
        "id": "QkD6RMlTMaQj"
      },
      "source": [
        "# URL ライブラリ　の　request クラスを　req という別名で　imoort\n",
        "import urllib.request as req\n",
        "import pandas as pd\n",
        "from sklearn.metrics import accuracy_score"
      ],
      "execution_count": 11,
      "outputs": []
    },
    {
      "cell_type": "code",
      "metadata": {
        "id": "OrAoVYkzPD4g",
        "outputId": "d3c4994c-894b-4f7e-b2f3-90b3fcb56160",
        "colab": {
          "base_uri": "https://localhost:8080/",
          "height": 34
        }
      },
      "source": [
        "#url という舐めのオブジェクト変数を指定\n",
        "url = \"https://github.com/pandas-dev/pandas/raw/master/pandas/tests/io/data/csv/iris.csv\"\n",
        "#リンクから保存するためのファイル名を定義\n",
        "savefile = \"iris.csv\"\n",
        "#requestクラス　を使ってurlからデータをsavefile 　へコピー\n",
        "req.urlretrieve(url, savefile)\n",
        "print(\"保存しました\")"
      ],
      "execution_count": 12,
      "outputs": [
        {
          "output_type": "stream",
          "text": [
            "保存しました\n"
          ],
          "name": "stdout"
        }
      ]
    },
    {
      "cell_type": "markdown",
      "metadata": {
        "id": "6gv1jeGCQBlf"
      },
      "source": [
        "### 保存したcsvファイルをメモリ上に\n"
      ]
    },
    {
      "cell_type": "code",
      "metadata": {
        "id": "qwSEoPjNQOqX"
      },
      "source": [
        "# pandas  の　read_csv、メソッドをつかってCSVを読み込む\n",
        "iris_data = pd.read_csv(savefile, encoding =\"utf-8\")"
      ],
      "execution_count": 13,
      "outputs": []
    },
    {
      "cell_type": "code",
      "metadata": {
        "id": "bpptnAgSQdaf"
      },
      "source": [
        "# 機械学習データを学習用データとテスト用に分けるためのクラス\n",
        "from sklearn.model_selection import train_test_split\n",
        "# サポートベクターマシン（SVM）のSVCのアルゴリズムのクラス\n",
        "from sklearn.svm import SVC"
      ],
      "execution_count": 14,
      "outputs": []
    },
    {
      "cell_type": "code",
      "metadata": {
        "id": "9rDQER7_ZJAp",
        "outputId": "d3684f1b-204e-4609-fb5e-f8c1cd4a8834",
        "colab": {
          "base_uri": "https://localhost:8080/",
          "height": 221
        }
      },
      "source": [
        "#python のリストをきりだしを使って\n",
        "y=iris_data.loc[:, \"Name\"]\n",
        "print(y)"
      ],
      "execution_count": 15,
      "outputs": [
        {
          "output_type": "stream",
          "text": [
            "0         Iris-setosa\n",
            "1         Iris-setosa\n",
            "2         Iris-setosa\n",
            "3         Iris-setosa\n",
            "4         Iris-setosa\n",
            "            ...      \n",
            "145    Iris-virginica\n",
            "146    Iris-virginica\n",
            "147    Iris-virginica\n",
            "148    Iris-virginica\n",
            "149    Iris-virginica\n",
            "Name: Name, Length: 150, dtype: object\n"
          ],
          "name": "stdout"
        }
      ]
    },
    {
      "cell_type": "code",
      "metadata": {
        "id": "5UCRjjfjZWr4",
        "outputId": "cd79efac-9b65-4a5d-cc7a-99d3b3bda899",
        "colab": {
          "base_uri": "https://localhost:8080/",
          "height": 255
        }
      },
      "source": [
        "#xに左４列のデータを切り取り代入\n",
        "x = iris_data.loc[:,[\"SepalLength\", \"SepalWidth\", \"PetalLength\", \"PetalWidth\"]]\n",
        "print(x)"
      ],
      "execution_count": 16,
      "outputs": [
        {
          "output_type": "stream",
          "text": [
            "     SepalLength  SepalWidth  PetalLength  PetalWidth\n",
            "0            5.1         3.5          1.4         0.2\n",
            "1            4.9         3.0          1.4         0.2\n",
            "2            4.7         3.2          1.3         0.2\n",
            "3            4.6         3.1          1.5         0.2\n",
            "4            5.0         3.6          1.4         0.2\n",
            "..           ...         ...          ...         ...\n",
            "145          6.7         3.0          5.2         2.3\n",
            "146          6.3         2.5          5.0         1.9\n",
            "147          6.5         3.0          5.2         2.0\n",
            "148          6.2         3.4          5.4         2.3\n",
            "149          5.9         3.0          5.1         1.8\n",
            "\n",
            "[150 rows x 4 columns]\n"
          ],
          "name": "stdout"
        }
      ]
    },
    {
      "cell_type": "code",
      "metadata": {
        "id": "U2xL9xYJZ9Rf"
      },
      "source": [
        "# teain_test_split を使って　xもyもtrainデータとtestデータにランダムに分ける（shuffle）\n",
        "#比率はtest=0.2, train=0.8でx_train ,y_train,x_test,y_testという変数に代入する\n",
        "x_train ,x_test, y_train, y_test = train_test_split(x,y,test_size=0.2, train_size=0.8,shuffle=True)"
      ],
      "execution_count": 17,
      "outputs": []
    },
    {
      "cell_type": "markdown",
      "metadata": {
        "id": "YBpQq3WYukBU"
      },
      "source": [
        "### x_train y_train に学習させる"
      ]
    },
    {
      "cell_type": "code",
      "metadata": {
        "id": "Pgen62vJuxSh"
      },
      "source": [
        "#インスタンスを生成\n",
        "clf = SVC()"
      ],
      "execution_count": 18,
      "outputs": []
    },
    {
      "cell_type": "code",
      "metadata": {
        "id": "jOu4roSuvUhu",
        "outputId": "cdf37a59-1231-4264-fb38-03996b26f9d2",
        "colab": {
          "base_uri": "https://localhost:8080/",
          "height": 85
        }
      },
      "source": [
        "#SVCアルゴリズムにそれぞれのデータをわたして学習させ\n",
        "clf.fit(x_train,y_train)"
      ],
      "execution_count": 19,
      "outputs": [
        {
          "output_type": "execute_result",
          "data": {
            "text/plain": [
              "SVC(C=1.0, break_ties=False, cache_size=200, class_weight=None, coef0=0.0,\n",
              "    decision_function_shape='ovr', degree=3, gamma='scale', kernel='rbf',\n",
              "    max_iter=-1, probability=False, random_state=None, shrinking=True,\n",
              "    tol=0.001, verbose=False)"
            ]
          },
          "metadata": {
            "tags": []
          },
          "execution_count": 19
        }
      ]
    },
    {
      "cell_type": "markdown",
      "metadata": {
        "id": "K5MQib1ZwO-b"
      },
      "source": [
        "### 学習がうまくいったかを検証する\n",
        "\n"
      ]
    },
    {
      "cell_type": "code",
      "metadata": {
        "id": "UJdxcGV2wTYG",
        "outputId": "99ddb489-b505-4230-db39-3d7f7b7bf72a",
        "colab": {
          "base_uri": "https://localhost:8080/",
          "height": 34
        }
      },
      "source": [
        "#x_testデータを使って学習する\n",
        "y_pred = clf.predict(x_test)\n",
        "print(\"正解率 = \",  accuracy_score(y_test, y_pred))"
      ],
      "execution_count": 20,
      "outputs": [
        {
          "output_type": "stream",
          "text": [
            "正解率 =  0.9333333333333333\n"
          ],
          "name": "stdout"
        }
      ]
    },
    {
      "cell_type": "code",
      "metadata": {
        "id": "6iV89Kv0zZnn"
      },
      "source": [
        ""
      ],
      "execution_count": 20,
      "outputs": []
    }
  ]
}