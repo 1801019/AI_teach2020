{
  "nbformat": 4,
  "nbformat_minor": 0,
  "metadata": {
    "colab": {
      "name": "and.ipynb",
      "provenance": [],
      "collapsed_sections": [],
      "authorship_tag": "ABX9TyMVsKY4gkd6pJrh0pgln2Y+",
      "include_colab_link": true
    },
    "kernelspec": {
      "name": "python3",
      "display_name": "Python 3"
    }
  },
  "cells": [
    {
      "cell_type": "markdown",
      "metadata": {
        "id": "view-in-github",
        "colab_type": "text"
      },
      "source": [
        "<a href=\"https://colab.research.google.com/github/1801019/AI_teach2020/blob/master/and.ipynb\" target=\"_parent\"><img src=\"https://colab.research.google.com/assets/colab-badge.svg\" alt=\"Open In Colab\"/></a>"
      ]
    },
    {
      "cell_type": "markdown",
      "metadata": {
        "id": "sfppAg_gqTXB"
      },
      "source": [
        "### AND演算モデルに学ばせる(LinearSVC)\n"
      ]
    },
    {
      "cell_type": "markdown",
      "metadata": {
        "id": "EFNWrQqJZ-eb"
      },
      "source": [
        ""
      ]
    },
    {
      "cell_type": "code",
      "metadata": {
        "id": "rllACubdqkje"
      },
      "source": [
        "# scikit-learnを使うためインポートする\n",
        "from sklearn.svm import LinearSVC\n",
        "from sklearn.metrics import accuracy_score # 結果を評価するためのオブジェクト"
      ],
      "execution_count": 5,
      "outputs": []
    },
    {
      "cell_type": "markdown",
      "metadata": {
        "id": "aJo9RgvnrXos"
      },
      "source": [
        "#### 学習のためのデータを用意する"
      ]
    },
    {
      "cell_type": "code",
      "metadata": {
        "id": "9aQXS9gbrc_w"
      },
      "source": [
        "# 入力値を表すデータ\n",
        "#　入力X 入力Y\n",
        "learn_data = [ [0,0], [1,0], [0,1], [1,1] ]\n",
        "# (xとyのand) 結果\n",
        "learn_label = [ 0, 0, 0, 1 ]"
      ],
      "execution_count": 6,
      "outputs": []
    },
    {
      "cell_type": "markdown",
      "metadata": {
        "id": "mI11V6z4tCH-"
      },
      "source": [
        "#### アルゴリズムのインスタンスを生成"
      ]
    },
    {
      "cell_type": "code",
      "metadata": {
        "id": "g3a7qstQtFvy"
      },
      "source": [
        "### 線形SVC　のインスタンスを生成\n",
        "clf = LinearSVC()"
      ],
      "execution_count": 7,
      "outputs": []
    },
    {
      "cell_type": "markdown",
      "metadata": {
        "id": "1pHydPC4tSDL"
      },
      "source": [
        "#### モデルに学習させる（fitメソッド）"
      ]
    },
    {
      "cell_type": "code",
      "metadata": {
        "id": "ioxZAxoAtZu_",
        "outputId": "1d26063d-ab57-4c35-8d87-008aa5d5b92b",
        "colab": {
          "base_uri": "https://localhost:8080/",
          "height": 85
        }
      },
      "source": [
        "clf.fit( learn_data, learn_label )"
      ],
      "execution_count": 8,
      "outputs": [
        {
          "output_type": "execute_result",
          "data": {
            "text/plain": [
              "LinearSVC(C=1.0, class_weight=None, dual=True, fit_intercept=True,\n",
              "          intercept_scaling=1, loss='squared_hinge', max_iter=1000,\n",
              "          multi_class='ovr', penalty='l2', random_state=None, tol=0.0001,\n",
              "          verbose=0)"
            ]
          },
          "metadata": {
            "tags": []
          },
          "execution_count": 8
        }
      ]
    },
    {
      "cell_type": "markdown",
      "metadata": {
        "id": "AHJq_r2ZuTk_"
      },
      "source": [
        "#### モデルが学習できたかテストデータで予測させる"
      ]
    },
    {
      "cell_type": "code",
      "metadata": {
        "id": "pY0n73owuc5V",
        "outputId": "f8bdeece-1e7f-4c68-98c9-4b5b687cb0bf",
        "colab": {
          "base_uri": "https://localhost:8080/",
          "height": 68
        }
      },
      "source": [
        "### 予測用のテストデータ（検証）を作る\n",
        "test_data = [ [0,0],[1,0],[0,1],[1,1] ]\n",
        "###モデルにテストデータを回答させる。（予測）\n",
        "test_label = clf.predict(test_data)\n",
        "print(test_label)\n",
        "# 予測結果の評価　\n",
        "print(test_data,\"の予測結果\",test_label)\n",
        "#結果の制度を表示させる\n",
        "print(\"正解率 = \",  accuracy_score([0,0,0,1], test_label))"
      ],
      "execution_count": 9,
      "outputs": [
        {
          "output_type": "stream",
          "text": [
            "[0 0 0 1]\n",
            "[[0, 0], [1, 0], [0, 1], [1, 1]] の予測結果 [0 0 0 1]\n",
            "正解率 =  1.0\n"
          ],
          "name": "stdout"
        }
      ]
    },
    {
      "cell_type": "markdown",
      "metadata": {
        "id": "Gx_fboT_wOmd"
      },
      "source": [
        "### XOR演算子\n"
      ]
    },
    {
      "cell_type": "code",
      "metadata": {
        "id": "llC8BBHGvYyu"
      },
      "source": [
        "# XOR演算子を学習するためのデータを用意する\n",
        "# X.Y の順\n",
        "learn_data =  [ [0,0],[1,0],[0,1],[1,1] ]\n",
        "# X xor Y  の結果正解データ　（学習データ）\n",
        "learn_label = [ 0, 1, 1, 0 ]"
      ],
      "execution_count": 10,
      "outputs": []
    },
    {
      "cell_type": "code",
      "metadata": {
        "id": "48OLotQ9xJEj",
        "outputId": "bc383fd1-f395-4afe-ec86-6c0fb31b69b4",
        "colab": {
          "base_uri": "https://localhost:8080/",
          "height": 85
        }
      },
      "source": [
        "#学習モデルのインスタンス\n",
        "clf = LinearSVC()\n",
        "# 学習させる\n",
        "clf.fit(learn_data, learn_label )"
      ],
      "execution_count": 11,
      "outputs": [
        {
          "output_type": "execute_result",
          "data": {
            "text/plain": [
              "LinearSVC(C=1.0, class_weight=None, dual=True, fit_intercept=True,\n",
              "          intercept_scaling=1, loss='squared_hinge', max_iter=1000,\n",
              "          multi_class='ovr', penalty='l2', random_state=None, tol=0.0001,\n",
              "          verbose=0)"
            ]
          },
          "metadata": {
            "tags": []
          },
          "execution_count": 11
        }
      ]
    },
    {
      "cell_type": "code",
      "metadata": {
        "id": "N07j7tejxsAt"
      },
      "source": [
        "#学習モデルを推論させる\n",
        "test_data =  [ [0,0],[1,0],[0,1],[1,1] ]\n",
        "test_label = clf.predict(test_data)"
      ],
      "execution_count": 12,
      "outputs": []
    },
    {
      "cell_type": "code",
      "metadata": {
        "id": "265eyRxuyNL1",
        "outputId": "10adbf1a-0e62-4381-c39d-39001145590b",
        "colab": {
          "base_uri": "https://localhost:8080/",
          "height": 51
        }
      },
      "source": [
        "#結果の表示\n",
        "print(test_data,\"の予測結果\",test_label)\n",
        "#結果の制度を表示させる\n",
        "print(\"正解率 = \",  accuracy_score([0,1,1,0], test_label))"
      ],
      "execution_count": 13,
      "outputs": [
        {
          "output_type": "stream",
          "text": [
            "[[0, 0], [1, 0], [0, 1], [1, 1]] の予測結果 [0 1 1 1]\n",
            "正解率 =  0.75\n"
          ],
          "name": "stdout"
        }
      ]
    },
    {
      "cell_type": "code",
      "metadata": {
        "id": "A_LkDV6cyr2l"
      },
      "source": [
        ""
      ],
      "execution_count": 13,
      "outputs": []
    },
    {
      "cell_type": "markdown",
      "metadata": {
        "id": "z3cjRYeGZ__O"
      },
      "source": [
        "###K近法"
      ]
    },
    {
      "cell_type": "code",
      "metadata": {
        "id": "a93rkasqaG3y"
      },
      "source": [
        "from sklearn.neighbors import KNeighborsClassifier"
      ],
      "execution_count": 14,
      "outputs": []
    },
    {
      "cell_type": "code",
      "metadata": {
        "id": "83CTNXySaR-L"
      },
      "source": [
        "#学習モデルの変数clfをK近法のインスタンスで上書き"
      ],
      "execution_count": 15,
      "outputs": []
    },
    {
      "cell_type": "code",
      "metadata": {
        "id": "fvaZl1vDaeHN"
      },
      "source": [
        "clf = KNeighborsClassifier(n_neighbors=1)"
      ],
      "execution_count": 16,
      "outputs": []
    },
    {
      "cell_type": "code",
      "metadata": {
        "id": "Qc_PjD0fajDC",
        "outputId": "88e69307-68ac-4bba-8a83-fb6903001769",
        "colab": {
          "base_uri": "https://localhost:8080/",
          "height": 68
        }
      },
      "source": [
        "# 学習用入力データと結果用正解データと結果用正解データを使って学習\n",
        "clf.fit(learn_data, learn_label)"
      ],
      "execution_count": 17,
      "outputs": [
        {
          "output_type": "execute_result",
          "data": {
            "text/plain": [
              "KNeighborsClassifier(algorithm='auto', leaf_size=30, metric='minkowski',\n",
              "                     metric_params=None, n_jobs=None, n_neighbors=1, p=2,\n",
              "                     weights='uniform')"
            ]
          },
          "metadata": {
            "tags": []
          },
          "execution_count": 17
        }
      ]
    },
    {
      "cell_type": "markdown",
      "metadata": {
        "id": "8YB0gmkZbWVe"
      },
      "source": [
        "### テスト検証用データで推論する"
      ]
    },
    {
      "cell_type": "code",
      "metadata": {
        "id": "SS5Acx0JbJWK",
        "outputId": "910c0b44-5506-4194-9eb7-10404f587bee",
        "colab": {
          "base_uri": "https://localhost:8080/",
          "height": 51
        }
      },
      "source": [
        "#テスト検証用データ　(test_data)と答え合わせ用の正解データ[0110]\n",
        "clf.predict(test_data)\n",
        "print(test_label)\n",
        "print(\"正解率 = \",  accuracy_score([0,1,1,0], test_label))"
      ],
      "execution_count": 20,
      "outputs": [
        {
          "output_type": "stream",
          "text": [
            "[0 1 1 1]\n",
            "正解率 =  0.75\n"
          ],
          "name": "stdout"
        }
      ]
    },
    {
      "cell_type": "code",
      "metadata": {
        "id": "9UqMMEUVb9OV"
      },
      "source": [
        ""
      ],
      "execution_count": null,
      "outputs": []
    }
  ]
}