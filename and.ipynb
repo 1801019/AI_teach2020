{
  "nbformat": 4,
  "nbformat_minor": 0,
  "metadata": {
    "colab": {
      "name": "and.ipynb",
      "provenance": [],
      "authorship_tag": "ABX9TyNrNORuC1FWBT+32TvKBfxj",
      "include_colab_link": true
    },
    "kernelspec": {
      "name": "python3",
      "display_name": "Python 3"
    }
  },
  "cells": [
    {
      "cell_type": "markdown",
      "metadata": {
        "id": "view-in-github",
        "colab_type": "text"
      },
      "source": [
        "<a href=\"https://colab.research.google.com/github/1801019/AI_teach2020/blob/master/and.ipynb\" target=\"_parent\"><img src=\"https://colab.research.google.com/assets/colab-badge.svg\" alt=\"Open In Colab\"/></a>"
      ]
    },
    {
      "cell_type": "markdown",
      "metadata": {
        "id": "sfppAg_gqTXB",
        "colab_type": "text"
      },
      "source": [
        "### AND演算モデルに学ばせる(LinearSVC)\n"
      ]
    },
    {
      "cell_type": "code",
      "metadata": {
        "id": "rllACubdqkje",
        "colab_type": "code",
        "colab": {}
      },
      "source": [
        "# scikit-learnを使うためインポートする\n",
        "from sklearn.svm import LinearSVC\n",
        "from sklearn.metrics import accuracy_score # 結果を評価するためのオブジェクト"
      ],
      "execution_count": null,
      "outputs": []
    },
    {
      "cell_type": "markdown",
      "metadata": {
        "id": "aJo9RgvnrXos",
        "colab_type": "text"
      },
      "source": [
        "#### 学習のためのデータを用意する"
      ]
    },
    {
      "cell_type": "code",
      "metadata": {
        "id": "9aQXS9gbrc_w",
        "colab_type": "code",
        "colab": {}
      },
      "source": [
        "# 入力値を表すデータ\n",
        "#　入力X 入力Y\n",
        "learn_data = [ [0,0], [1,0], [0,1], [1,1] ]\n",
        "# (xとyのand) 結果\n",
        "learn_label = [ 0, 0, 0, 1 ]"
      ],
      "execution_count": null,
      "outputs": []
    },
    {
      "cell_type": "markdown",
      "metadata": {
        "id": "mI11V6z4tCH-",
        "colab_type": "text"
      },
      "source": [
        "#### アルゴリズムのインスタンスを生成"
      ]
    },
    {
      "cell_type": "code",
      "metadata": {
        "id": "g3a7qstQtFvy",
        "colab_type": "code",
        "colab": {}
      },
      "source": [
        "### 線形SVC　のインスタンスを生成\n",
        "clf = LinearSVC"
      ],
      "execution_count": null,
      "outputs": []
    },
    {
      "cell_type": "markdown",
      "metadata": {
        "id": "1pHydPC4tSDL",
        "colab_type": "text"
      },
      "source": [
        "#### モデルに学習させる（fitメソッド）"
      ]
    },
    {
      "cell_type": "code",
      "metadata": {
        "id": "ioxZAxoAtZu_",
        "colab_type": "code",
        "colab": {
          "base_uri": "https://localhost:8080/",
          "height": 168
        },
        "outputId": "120cc713-47b2-49e2-e8ff-15d848ede5ab"
      },
      "source": [
        "clf.fit( learn_data, learn_label )"
      ],
      "execution_count": null,
      "outputs": [
        {
          "output_type": "error",
          "ename": "TypeError",
          "evalue": "ignored",
          "traceback": [
            "\u001b[0;31m---------------------------------------------------------------------------\u001b[0m",
            "\u001b[0;31mTypeError\u001b[0m                                 Traceback (most recent call last)",
            "\u001b[0;32m<ipython-input-26-aa4630c7addf>\u001b[0m in \u001b[0;36m<module>\u001b[0;34m()\u001b[0m\n\u001b[0;32m----> 1\u001b[0;31m \u001b[0mclf\u001b[0m\u001b[0;34m.\u001b[0m\u001b[0mfit\u001b[0m\u001b[0;34m(\u001b[0m \u001b[0mlearn_data\u001b[0m\u001b[0;34m,\u001b[0m \u001b[0mlearn_label\u001b[0m \u001b[0;34m)\u001b[0m\u001b[0;34m\u001b[0m\u001b[0;34m\u001b[0m\u001b[0m\n\u001b[0m",
            "\u001b[0;31mTypeError\u001b[0m: fit() missing 1 required positional argument: 'y'"
          ]
        }
      ]
    },
    {
      "cell_type": "markdown",
      "metadata": {
        "id": "AHJq_r2ZuTk_",
        "colab_type": "text"
      },
      "source": [
        "#### モデルが学習できたかテストデータで予測させる"
      ]
    },
    {
      "cell_type": "code",
      "metadata": {
        "id": "pY0n73owuc5V",
        "colab_type": "code",
        "colab": {}
      },
      "source": [
        "### 予測用のテストデータ（検証）を作る\n",
        "test_data = [ [0,0],[1,0],[0,1],[1,1] ]\n",
        "###モデルにテストデータを回答させる。（予測）\n",
        "test_label = clf.predict(test_data)\n",
        "print(test_label)\n",
        "# 予測結果の評価　\n",
        "print(test_data,\"の予測結果\",test_label)\n",
        "#結果の制度を表示させる\n",
        "print(\"正解率\"　, accuracy_score([0,0,01], test_label))"
      ],
      "execution_count": null,
      "outputs": []
    },
    {
      "cell_type": "code",
      "metadata": {
        "id": "llC8BBHGvYyu",
        "colab_type": "code",
        "colab": {}
      },
      "source": [
        ""
      ],
      "execution_count": null,
      "outputs": []
    }
  ]
}